{
 "cells": [
  {
   "cell_type": "code",
   "execution_count": null,
   "id": "46709c39-d0a3-4a5b-859a-808b364da8ff",
   "metadata": {},
   "outputs": [],
   "source": [
    "def test_model(model, test_loader, criterion, device):\n",
    "    model.eval()\n",
    "    total_loss = 0.0\n",
    "    correct = 0\n",
    "    total = 0\n",
    "    threshold = 1.0\n",
    "\n",
    "    with torch.no_grad():\n",
    "        for (img1, lbp1), (img2, lbp2), label in test_loader:\n",
    "            img1, lbp1 = img1.to(device), lbp1.to(device)\n",
    "            img2, lbp2 = img2.to(device), lbp2.to(device)\n",
    "            label = label.to(device)\n",
    "\n",
    "            cosine_label = torch.where(label == 1, torch.tensor(-1.0, device=device), torch.tensor(1.0, device=device))\n",
    "\n",
    "            output1, output2 = model((img1, lbp1), (img2, lbp2))\n",
    "\n",
    "            loss = criterion(output1, output2, cosine_label)\n",
    "            total_loss += loss.item()\n",
    "\n",
    "            cos_sim = F.cosine_similarity(output1, output2)\n",
    "\n",
    "            predictions = (cos_sim > threshold).float()\n",
    "\n",
    "            predicted_labels = (predictions == 0).float()\n",
    "\n",
    "            correct += (predicted_labels == label).sum().item()\n",
    "            total += label.size(0)\n",
    "\n",
    "    avg_loss = total_loss / len(test_loader)\n",
    "    accuracy = correct / total * 100.0\n",
    "    print(f\"\\n✅ Test Loss: {avg_loss:.4f} | Test Accuracy: {accuracy:.2f}%\")\n",
    "\n",
    "test_model(model, test_loader, criterion, device)"
   ]
  }
 ],
 "metadata": {
  "kernelspec": {
   "display_name": "x_ray_project",
   "language": "python",
   "name": "x_ray_project"
  },
  "language_info": {
   "codemirror_mode": {
    "name": "ipython",
    "version": 3
   },
   "file_extension": ".py",
   "mimetype": "text/x-python",
   "name": "python",
   "nbconvert_exporter": "python",
   "pygments_lexer": "ipython3",
   "version": "3.12.9"
  }
 },
 "nbformat": 4,
 "nbformat_minor": 5
}
